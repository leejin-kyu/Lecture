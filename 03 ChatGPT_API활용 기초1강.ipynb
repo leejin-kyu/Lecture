{
 "cells": [
  {
   "cell_type": "code",
   "execution_count": null,
   "metadata": {},
   "outputs": [],
   "source": [
    "import json\n",
    "import openai\n",
    "openai.api_key = \"\"\n",
    "\n",
    "response = openai.Completion.create(  #←ChatCompletion 대신 Completion을 사용\n",
    "    engine=\"gpt-3.5-turbo-instruct\",  #←model 대신 engine을 지정하고 gpt-3.5-turbo-instruct를 지정\n",
    "    prompt=\"오늘 날씨가 매우 좋고 기분이\",  #←prompt를 지정\n",
    "    stop=\".\",  #←문자가 나타나면 문장 종료\n",
    "    max_tokens=100,  #← 최대 토큰 수\n",
    "    n=2,  #← 생성할 문장 수\n",
    "    temperature=0.5  #←다양성을 나타내는 매개변수\n",
    ")\n",
    "\n",
    "print(json.dumps(response, indent=2, ensure_ascii=False))\n"
   ]
  }
 ],
 "metadata": {
  "language_info": {
   "name": "python"
  }
 },
 "nbformat": 4,
 "nbformat_minor": 2
}
