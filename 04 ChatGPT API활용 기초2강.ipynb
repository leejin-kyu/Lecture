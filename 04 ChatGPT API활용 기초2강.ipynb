{
 "cells": [
  {
   "cell_type": "code",
   "execution_count": null,
   "metadata": {},
   "outputs": [],
   "source": [
    "import json\n",
    "import openai  #← OpenAI에서 제공하는 Python 패키지 가져오기\n",
    "openai.api_key = \"\"\n",
    "\n",
    "response = openai.ChatCompletion.create(  #←OpenAI API를 호출하여 언어 모델을 호출합니다.\n",
    "    model=\"gpt-3.5-turbo\",  #← 호출할 언어 모델의 이름\n",
    "    messages=[\n",
    "        {\n",
    "            \"role\": \"user\",\n",
    "            \"content\": \"iPhone8 출시일을 알려주세요\"  #←입력할 문장(프롬프트)\n",
    "        },\n",
    "    ]\n",
    ")\n",
    "\n",
    "print(json.dumps(response, indent=2, ensure_ascii=False))\n"
   ]
  }
 ],
 "metadata": {
  "language_info": {
   "name": "python"
  }
 },
 "nbformat": 4,
 "nbformat_minor": 2
}
