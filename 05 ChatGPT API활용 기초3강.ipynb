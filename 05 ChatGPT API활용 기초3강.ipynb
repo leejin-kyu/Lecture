{
 "cells": [
  {
   "cell_type": "code",
   "execution_count": null,
   "metadata": {},
   "outputs": [],
   "source": [
    "import json\n",
    "import openai\n",
    "\n",
    "openai.api_key = \"\"\n",
    "\n",
    "response = openai.ChatCompletion.create(\n",
    "    model=\"gpt-3.5-turbo\",\n",
    "    messages=[\n",
    "        {\n",
    "            \"role\": \"system\",\n",
    "            \"content\": \"성실하게 답해주세요\"  # 시스템 메시지 추가\n",
    "        },\n",
    "        {\n",
    "            \"role\": \"user\",\n",
    "            \"content\": \"여기에 다음과 같은 단어가 있습니다. 이 단어와 불교와의 연관성을 1에서 10까지 중 수치로 나타내주세요.(설명없이 답변만 해주세요). 부정부패\"\n",
    "        },\n",
    "    ]\n",
    ")\n",
    "\n",
    "print(json.dumps(response, indent=2, ensure_ascii=False))\n"
   ]
  }
 ],
 "metadata": {
  "language_info": {
   "name": "python"
  }
 },
 "nbformat": 4,
 "nbformat_minor": 2
}
