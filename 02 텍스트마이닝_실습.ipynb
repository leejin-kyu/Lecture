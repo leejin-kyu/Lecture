{
  "cells": [
    {
      "cell_type": "code",
      "execution_count": 44,
      "metadata": {
        "colab": {
          "base_uri": "https://localhost:8080/"
        },
        "id": "In7uwLfAFXlH",
        "outputId": "905dc609-1dc1-4a13-bfed-90db004a88ec"
      },
      "outputs": [
        {
          "name": "stderr",
          "output_type": "stream",
          "text": [
            "/usr/local/lib/python3.10/dist-packages/ipykernel/ipkernel.py:283: DeprecationWarning: `should_run_async` will not call `transform_cell` automatically in the future. Please pass the result to `transformed_cell` argument and any exception that happen during thetransform in `preprocessing_exc_tuple` in IPython 7.17 and above.\n",
            "  and should_run_async(code)\n"
          ]
        },
        {
          "name": "stdout",
          "output_type": "stream",
          "text": [
            "Requirement already satisfied: konlpy in /usr/local/lib/python3.10/dist-packages (0.6.0)\n",
            "Requirement already satisfied: JPype1>=0.7.0 in /usr/local/lib/python3.10/dist-packages (from konlpy) (1.5.0)\n",
            "Requirement already satisfied: lxml>=4.1.0 in /usr/local/lib/python3.10/dist-packages (from konlpy) (4.9.4)\n",
            "Requirement already satisfied: numpy>=1.6 in /usr/local/lib/python3.10/dist-packages (from konlpy) (1.25.2)\n",
            "Requirement already satisfied: packaging in /usr/local/lib/python3.10/dist-packages (from JPype1>=0.7.0->konlpy) (23.2)\n"
          ]
        }
      ],
      "source": [
        "# konlpy 패키지 설치: 한국어 형태소 분석을 위한 라이브러리입니다.\n",
        "!pip install konlpy  "
      ]
    },
    {
      "cell_type": "code",
      "execution_count": 45,
      "metadata": {
        "colab": {
          "base_uri": "https://localhost:8080/"
        },
        "id": "FXMa0XqhFYAS",
        "outputId": "5cb28d0c-7958-4dd9-8918-bb7df318170a"
      },
      "outputs": [
        {
          "name": "stderr",
          "output_type": "stream",
          "text": [
            "/usr/local/lib/python3.10/dist-packages/ipykernel/ipkernel.py:283: DeprecationWarning: `should_run_async` will not call `transform_cell` automatically in the future. Please pass the result to `transformed_cell` argument and any exception that happen during thetransform in `preprocessing_exc_tuple` in IPython 7.17 and above.\n",
            "  and should_run_async(code)\n",
            "/usr/local/lib/python3.10/dist-packages/openpyxl/styles/stylesheet.py:226: UserWarning: Workbook contains no default style, apply openpyxl's default\n",
            "  warn(\"Workbook contains no default style, apply openpyxl's default\")\n"
          ]
        }
      ],
      "source": [
        "# pandas 라이브러리를 pd라는 이름으로 임포트: 데이터 처리를 위한 주요 라이브러리입니다.\n",
        "import pandas as pd  \n",
        "\n",
        "# konlpy 라이브러리에서 Okt 형태소 분석기를 임포트: 한국어 텍스트를 형태소 단위로 분석합니다.\n",
        "from konlpy.tag import Okt  \n",
        "\n",
        "# 엑셀 파일을 데이터프레임 형태로 불러오기: 분석할 뉴스 데이터를 불러옵니다.\n",
        "df = pd.read_excel('/content/NewsResult_20231129-20240229.xlsx')\n",
        "\n",
        "# '제목'과 '본문' 컬럼을 합쳐 '제목_본문'이라는 새로운 컬럼을 생성합니다.\n",
        "df['제목_본문'] = df['제목'] + df['본문']"
      ]
    },
    {
      "cell_type": "code",
      "execution_count": 46,
      "metadata": {
        "colab": {
          "base_uri": "https://localhost:8080/"
        },
        "id": "fIEcd5tYILYS",
        "outputId": "884a302a-e5ad-48e6-8192-2b72f48c33ed"
      },
      "outputs": [
        {
          "name": "stderr",
          "output_type": "stream",
          "text": [
            "/usr/local/lib/python3.10/dist-packages/ipykernel/ipkernel.py:283: DeprecationWarning: `should_run_async` will not call `transform_cell` automatically in the future. Please pass the result to `transformed_cell` argument and any exception that happen during thetransform in `preprocessing_exc_tuple` in IPython 7.17 and above.\n",
            "  and should_run_async(code)\n"
          ]
        },
        {
          "data": {
            "text/plain": [
              "0       “대학생 취업난 극복에 도움 주고파” 한국유나이티드제약, 관련 전공자 취업지원 행사...\n",
              "1       한국 휩쓴 ‘성공 포르노’ 혹시 당신의 마음도 훔쳤나요? [스페셜리포트]“성공하려면...\n",
              "2       한화오션 英밥콕, 글로벌 잠수함 ‘협력 합의서’ 체결한화오션은 영국 밥콕 인터내셔널...\n",
              "3       핀크 '리얼리' 이용자, 작년 연봉 평균 9.9% 인상 인상률 높은 MBTI는[머니...\n",
              "4       [이 주의 새 책] 장벽 너머 外■풀 \\n \\n 일본군 위안부 피해자 이옥선 할머니...\n",
              "                              ...                        \n",
              "1997    드림어스컴퍼니, 글로벌 엔터기업 타이탄 콘텐츠 투자사로 참여드림어스컴퍼니가 글로벌 ...\n",
              "1998    애플 2029년까지 예정됐던 골드만삭스와의 파트너십 해지한다애플카드, 애플 예금 계...\n",
              "1999    “카톡 먹통 호통치던 정부, 행정망 마비엔 ‘관대’ 재난 편입 서둘러야”[현안 인터...\n",
              "2000    [미래의 대학 사이버대학교] 실감형 교육 콘텐트, 실시간 화상교육 도입대구사이버대학...\n",
              "2001    [스타트업 리포트]넘쳐나는 '돌팔이 의학 동영상' 보다 못해... 의학정보 스타트업...\n",
              "Name: 제목_본문, Length: 2002, dtype: object"
            ]
          },
          "execution_count": 46,
          "metadata": {},
          "output_type": "execute_result"
        }
      ],
      "source": [
        "df['제목_본문']"
      ]
    },
    {
      "cell_type": "code",
      "execution_count": 47,
      "metadata": {
        "colab": {
          "base_uri": "https://localhost:8080/"
        },
        "id": "iUkmicb-72Qr",
        "outputId": "9b246c2f-539a-42ff-f5b4-a135f75f9ff4"
      },
      "outputs": [
        {
          "name": "stderr",
          "output_type": "stream",
          "text": [
            "/usr/local/lib/python3.10/dist-packages/ipykernel/ipkernel.py:283: DeprecationWarning: `should_run_async` will not call `transform_cell` automatically in the future. Please pass the result to `transformed_cell` argument and any exception that happen during thetransform in `preprocessing_exc_tuple` in IPython 7.17 and above.\n",
            "  and should_run_async(code)\n"
          ]
        }
      ],
      "source": [
        "# Okt 형태소 분석기 객체를 생성합니다. 한국어 텍스트 분석을 위한 준비 단계입니다.\n",
        "okt = Okt()  \n",
        "\n",
        "# 텍스트 데이터를 형태소 단위로 분석하여 특정 품사(명사, 형용사, 동사)만 추출하는 함수입니다.\n",
        "def tokenizer(text):\n",
        "    morph = okt.pos(text)\n",
        "    words = []\n",
        "    for word, tag in morph:\n",
        "        if tag in ['Noun', 'Adjective', 'Verb']:\n",
        "            if len(word) > 1:  # 한 글자보다 긴 단어만 선택\n",
        "                words.append(word)\n",
        "    return words"
      ]
    },
    {
      "cell_type": "code",
      "execution_count": 48,
      "metadata": {
        "colab": {
          "base_uri": "https://localhost:8080/"
        },
        "id": "UuHiAbEI8608",
        "outputId": "f3decb0d-93e5-41d9-cf02-2514c745c81a"
      },
      "outputs": [
        {
          "name": "stderr",
          "output_type": "stream",
          "text": [
            "/usr/local/lib/python3.10/dist-packages/ipykernel/ipkernel.py:283: DeprecationWarning: `should_run_async` will not call `transform_cell` automatically in the future. Please pass the result to `transformed_cell` argument and any exception that happen during thetransform in `preprocessing_exc_tuple` in IPython 7.17 and above.\n",
            "  and should_run_async(code)\n"
          ]
        }
      ],
      "source": [
        "# 데이터프레임의 모든 데이터를 문자열 타입으로 변환합니다. 이는 형태소 분석을 위한 준비 단계입니다.\n",
        "df = df.astype('str')\n",
        "\n",
        "#'제목_본문' 컬럼에 tokenizer 함수를 적용하여, 형태소 분석을 수행하고 결과를 다시 해당 컬럼에 저장합니다.\n",
        "df['제목_본문'] = df['제목_본문'].apply(tokenizer)\n",
        "\n",
        "# 데이터프레임의 모든 열을 문자열 타입으로 변환합니다. 안전한 파일 저장을 위한 단계입니다.\n",
        "df = df.astype('str')\n",
        "\n",
        "# 데이터프레임을 '정제파일.csv'로 저장합니다. 분석 결과를 파일로 저장하는 단계입니다.\n",
        "df.to_csv('정제파일.csv', encoding='utf-8')"
      ]
    },
    {
      "cell_type": "code",
      "execution_count": 50,
      "metadata": {
        "colab": {
          "base_uri": "https://localhost:8080/"
        },
        "id": "7iuQrt5OvGdy",
        "outputId": "bd3712f9-3b4c-45cd-ae2a-28343a0371b0"
      },
      "outputs": [
        {
          "name": "stderr",
          "output_type": "stream",
          "text": [
            "/usr/local/lib/python3.10/dist-packages/ipykernel/ipkernel.py:283: DeprecationWarning: `should_run_async` will not call `transform_cell` automatically in the future. Please pass the result to `transformed_cell` argument and any exception that happen during thetransform in `preprocessing_exc_tuple` in IPython 7.17 and above.\n",
            "  and should_run_async(code)\n"
          ]
        },
        {
          "data": {
            "text/plain": [
              "0        대학생 취업 극복 도움 주고 한국 유나이티드 제약 관련 전공자 취업 지원 행사 개...\n",
              "1        한국 휩쓴 성공 포르노 혹시 당신 마음 훔쳤나요 스페셜 리포트 성공하려면 지금 당...\n",
              "2        한화 오션 밥콕 글로벌 잠수함 협력 합의 체결 한화 오션 영국 밥콕 인터내셔널 그...\n",
              "3        리얼리 이용자 작년 연봉 평균 인상 인상 높은 머니투데이 기자 크는 연봉 자산 소...\n",
              "4        주의 장벽 너머 일본군 위안부 피해자 이옥 할머니 생애 그린 만화 국제 만화 최고...\n",
              "                              ...                        \n",
              "1997     드림 어스 컴퍼니 글로벌 기업 타이탄 콘텐츠 투자 참여 드림 어스 컴퍼니 글로벌 ...\n",
              "1998     애플 예정 됐던 골드만삭스 파트너 해지 한다 애플 카드 애플 예금 계좌 포함 애플...\n",
              "1999     카톡 먹통 호통 치던 정부 행정 마비 관대 재난 편입 서둘러야 현안 인터뷰 현안 ...\n",
              "2000     미래 대학 사이버 대학교 실감 교육 콘텐트 실시간 화상 교육 도입 대구 사이버 대...\n",
              "2001     스타트업 리포트 넘쳐나는 팔이 의학 동영상 보다 의학 정보 스타트업 창업 의사 황...\n",
              "Name: 제목_본문, Length: 2002, dtype: object"
            ]
          },
          "execution_count": 50,
          "metadata": {},
          "output_type": "execute_result"
        }
      ],
      "source": [
        "df['제목_본문']"
      ]
    },
    {
      "cell_type": "markdown",
      "metadata": {
        "id": "YJYDK5CpcOjN"
      },
      "source": [
        "# 빈도분석 및 워드크라우드 시각화"
      ]
    },
    {
      "cell_type": "code",
      "execution_count": 51,
      "metadata": {
        "colab": {
          "base_uri": "https://localhost:8080/"
        },
        "id": "wKjUv9_kbDhP",
        "outputId": "5fff1239-ea89-478e-cf9b-dd3983a43c1b"
      },
      "outputs": [
        {
          "name": "stderr",
          "output_type": "stream",
          "text": [
            "/usr/local/lib/python3.10/dist-packages/ipykernel/ipkernel.py:283: DeprecationWarning: `should_run_async` will not call `transform_cell` automatically in the future. Please pass the result to `transformed_cell` argument and any exception that happen during thetransform in `preprocessing_exc_tuple` in IPython 7.17 and above.\n",
            "  and should_run_async(code)\n"
          ]
        }
      ],
      "source": [
        "# CountVectorizer를 사용하여 '제목_본문' 컬럼의 텍스트 데이터를 문서-단어 행렬로 변환합니다.\n",
        "tdm = cv.fit_transform(df['제목_본문'])\n",
        "\n",
        "# 단어와 그 빈도수를 담은 데이터프레임을 생성합니다. 이는 단어 사용 빈도 분석을 위한 단계입니다.\n",
        "word_count_tf = pd.DataFrame({'단어': cv.get_feature_names_out(), '빈도': tdm.sum(axis=0).flat})\n",
        "\n",
        "# 단어 빈도수를 기준으로 내림차순으로 정렬합니다. 이는 가장 자주 사용된 단어를 확인하기 위한 단계입니다.\n",
        "word_count_tf = word_count_tf.sort_values('빈도', ascending=False)\n",
        "\n",
        "# 단어 빈도수를 'word_count.xlsx' 엑셀 파일로 저장합니다. 결과를 저장하는 단계입니다.\n",
        "word_count_tf.to_excel('word_count.xlsx')"
      ]
    },
    {
      "cell_type": "code",
      "execution_count": 52,
      "metadata": {
        "colab": {
          "base_uri": "https://localhost:8080/",
          "height": 374
        },
        "id": "LpbIQl6KbVPd",
        "outputId": "fedc4065-da96-4c88-e2f3-2c9cc14a5d28"
      },
      "outputs": [
        {
          "name": "stderr",
          "output_type": "stream",
          "text": [
            "/usr/local/lib/python3.10/dist-packages/ipykernel/ipkernel.py:283: DeprecationWarning: `should_run_async` will not call `transform_cell` automatically in the future. Please pass the result to `transformed_cell` argument and any exception that happen during thetransform in `preprocessing_exc_tuple` in IPython 7.17 and above.\n",
            "  and should_run_async(code)\n"
          ]
        },
        {
          "data": {
            "image/png": "[encoded data removed]",
            "text/plain": [
              "<PIL.Image.Image image mode=RGB size=300x300>"
            ]
          },
          "execution_count": 52,
          "metadata": {},
          "output_type": "execute_result"
        }
      ],
      "source": [
        "# WordCloud 라이브러리를 임포트합니다: 텍스트 데이터의 빈도수를 시각화하기 위한 도구입니다.\n",
        "from wordcloud import WordCloud  \n",
        "\n",
        "# 한글 폰트 경로를 지정합니다. WordCloud에서 한글을 정상적으로 표시하기 위한 준비 단계입니다.\n",
        "font_path = '/content/malgun.ttf'\n",
        "\n",
        "# WordCloud 객체를 생성합니다. 여기서는 배경색을 흰색으로, 최대 단어 수를 50개로 설정합니다.\n",
        "wc = WordCloud(background_color='white', max_words=50, font_path=font_path)\n",
        "\n",
        "# 단어 빈도 사전을 생성합니다. 이는 WordCloud 생성에 사용될 데이터입니다.\n",
        "count_dic = dict(zip(word_count_tf['단어'], word_count_tf['빈도']))\n",
        "\n",
        "# WordCloud를 이용해 단어 빈도를 시각화합니다. 이는 가장 많이 사용된 단어를 시각적으로 확인하기 위한 단계입니다.\n",
        "cloud = wc.fit_words(count_dic)\n",
        "cloud.to_image()"
      ]
    }
  ],
  "metadata": {
    "colab": {
      "provenance": []
    },
    "kernelspec": {
      "display_name": "Python 3",
      "name": "python3"
    },
    "language_info": {
      "codemirror_mode": {
        "name": "ipython",
        "version": 3
      },
      "file_extension": ".py",
      "mimetype": "text/x-python",
      "name": "python",
      "nbconvert_exporter": "python",
      "pygments_lexer": "ipython3",
      "version": "3.11.5"
    }
  },
  "nbformat": 4,
  "nbformat_minor": 0
}
