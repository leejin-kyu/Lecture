{
  "cells": [
    {
      "cell_type": "code",
      "execution_count": null,
      "metadata": {
        "id": "BkWE3nAgg-pX"
      },
      "outputs": [],
      "source": [
        "pip install langchain"
      ]
    },
    {
      "cell_type": "code",
      "execution_count": null,
      "metadata": {
        "id": "85POk1xehTZd"
      },
      "outputs": [],
      "source": [
        "pip install openai==0.28"
      ]
    },
    {
      "cell_type": "code",
      "execution_count": 12,
      "metadata": {
        "colab": {
          "base_uri": "https://localhost:8080/"
        },
        "id": "-nZFwpfyhDtt",
        "outputId": "65dad647-ae94-4236-e1f3-71d4c3d0259e"
      },
      "outputs": [
        {
          "name": "stdout",
          "output_type": "stream",
          "text": [
            "축구를 잘하기 위해서는 몇 가지 중요한 요소들이 있습니다. \n",
            "\n",
            "1. 기본기를 탄탄히 다지세요: 페널티킥, 드리블, 패스, 터치 등의 기본적인 기술들을 충분히 연습하고 익히세요.\n",
            "\n",
            "2. 체력과 스피드를 개선하세요: 축구는 빠른 속도와 뛰어난 체력이 필요한 스포츠입니다. 꾸준한 유산소 운동과 스프린트 훈련을 통해 체력과 스피드를 향상시키세요.\n",
            "\n",
            "3. 팀워크를 강화하세요: 축구는 팀 스포츠이기 때문에 팀원들과의 소통과 협력이 매우 중요합니다. 팀원들과의 유대감을 형성하고 훈련 중에 서로의 역할과 위치를 이해하며 훈련하세요.\n",
            "\n",
            "4. 전략과 taktik을 이해하세요: 축구는 전략과 taktik이 중요한 요소입니다. 상대팀의 수비 전략을 파악하고 그에 맞는 공격 전략을 세우세요.\n",
            "\n",
            "5. 자신의 강점을 발휘하세요: 자신의 특기와 강점을 파악하고 그것을 최대한 활용하세요. 예를 들어, 빠른 속도, 정확한 패스, 강력한 슈팅 등을 활용하여 경기에서 뛰어난 성과를 거두세요.\n",
            "\n",
            "6. 지속적인 훈련과 연습이 필요합니다: 축구는 반복된 훈련과 연습을 통해 기술을 향상시킬 수 있는 스포츠입니다. 꾸준한 훈련과 연습을 통해 자신의 실력을 향상시키세요."
          ]
        }
      ],
      "source": [
        "# langchain과 OpenAI 라이브러리를 사용하여 실시간으로 질문에 답변할 수 있는 챗봇을 구현합니다.\n",
        "from langchain.callbacks.streaming_stdout import StreamingStdOutCallbackHandler  # 실시간 출력을 처리하는 모듈을 가져옵니다.\n",
        "from langchain.chat_models import ChatOpenAI  # OpenAI 기반의 챗봇 모델을 사용하기 위한 모듈을 가져옵니다.\n",
        "from langchain.schema import HumanMessage  # 사용자 메시지를 정의하는 데 사용하는 클래스를 가져옵니다.\n",
        "\n",
        "# 챗봇을 설정합니다. 여기서는 OpenAI의 GPT 모델을 사용하며, 실시간으로 대화를 스트리밍합니다.\n",
        "chat = ChatOpenAI(\n",
        "    openai_api_key=\"\",  # OpenAI에서 발급받은 API 키를 입력합니다.\n",
        "    streaming=True,  # 'streaming'을 True로 설정해 실시간으로 대화의 결과를 받아볼 수 있습니다.\n",
        "    callbacks=[\n",
        "        StreamingStdOutCallbackHandler()  # 실시간으로 결과를 콘솔에 출력할 수 있도록 콜백 핸들러를 추가합니다.\n",
        "    ]\n",
        ")\n",
        "\n",
        "# 챗봇에게 질문을 보내고 답변을 받습니다.\n",
        "resp = chat([\n",
        "    HumanMessage(content=\"축구 잘하는 법을 알려주세요\")  # 사용자의 질문을 정의합니다.\n",
        "])\n",
        "# 위 코드는 사용자의 질문에 대한 답변을 실시간으로 콘솔에 출력합니다.\n"
      ]
    },
    {
      "cell_type": "code",
      "execution_count": 13,
      "metadata": {
        "colab": {
          "base_uri": "https://localhost:8080/"
        },
        "id": "0bhARq_PhrQh",
        "outputId": "8e1ade39-ab5f-4717-91bb-b34d63226fbe"
      },
      "outputs": [
        {
          "name": "stdout",
          "output_type": "stream",
          "text": [
            "content='축구를 잘하기 위해서는 몇 가지 중요한 요소들이 있습니다. 아래에 몇 가지 팁을 제공해드리겠습니다:\\n\\n1. 기본기를 탄탄히 다지세요: 축구를 잘하기 위해서는 기본기가 중요합니다. 드리블, 패스, 슈팅, 헤딩 등의 기술을 충분히 연습하고 익숙해지도록 노력해야 합니다.\\n\\n2. 체력을 키우세요: 축구는 뛰고 점프하는 등 체력을 많이 요구하는 운동이기 때문에 체력이 중요합니다. 꾸준한 유산소 운동과 근력 운동을 통해 체력을 키워주세요.\\n\\n3. 팀원들과 소통을 잘하세요: 축구는 팀 스포츠이기 때문에 팀원들과의 소통이 매우 중요합니다. 상대편을 잘 향해 패스를 보내고, 상대편의 움직임을 파악하여 팀원들과의 협업을 통해 경기를 이끌어가세요.\\n\\n4. 전략을 세우세요: 축구는 단순히 공을 차는 게 아니라 전략적으로 경기를 이끌어가야 합니다. 상대팀의 약점을 파악하고 그에 맞는 전략을 세워 경기를 이기도록 노력해보세요.\\n\\n5. 열정과 집중력을 유지하세요: 축구를 잘하기 위해서는 열정과 집중력이 필요합니다. 항상 최선을 다하고, 실수에도 빠르게 대처하여 경기에 최선을 다하도록 노력해주세요.\\n\\n이러한 팁들을 참고하여 축구를 잘하는 법을 연습하고 실전에 적용해보세요. 축구를 통해 재미를 느끼고 좋은 성과를 이뤄보시기 바랍니다!' response_metadata={'token_usage': <OpenAIObject at 0x7c1b7076c130> JSON: {\n",
            "  \"prompt_tokens\": 21,\n",
            "  \"completion_tokens\": 586,\n",
            "  \"total_tokens\": 607\n",
            "}, 'model_name': 'gpt-3.5-turbo', 'system_fingerprint': 'fp_c2295e73ad', 'finish_reason': 'stop', 'logprobs': None} id='run-62b19e1a-f70b-4c0d-9c7e-16c183e9ffc3-0'\n"
          ]
        }
      ],
      "source": [
        "##비교 예시(스트리밍이 없는 경우)\n",
        "\n",
        "from langchain.chat_models import ChatOpenAI\n",
        "from langchain.schema import HumanMessage\n",
        "\n",
        "chat = ChatOpenAI(\n",
        "    openai_api_key=\"\"\n",
        ")\n",
        "\n",
        "resp = chat([\n",
        "    HumanMessage(content=\"축구 잘하는 법을 알려주세요\")\n",
        "])\n",
        "\n",
        "print(resp)"
      ]
    }
  ],
  "metadata": {
    "colab": {
      "provenance": []
    },
    "kernelspec": {
      "display_name": "Python 3",
      "name": "python3"
    },
    "language_info": {
      "name": "python"
    }
  },
  "nbformat": 4,
  "nbformat_minor": 0
}
